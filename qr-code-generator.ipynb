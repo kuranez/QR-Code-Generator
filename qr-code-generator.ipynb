{
 "cells": [
  {
   "cell_type": "markdown",
   "id": "9c1fe377-ff1e-4517-9c98-9a1f00d22dce",
   "metadata": {},
   "source": [
    "# QR-Code Generator"
   ]
  },
  {
   "cell_type": "markdown",
   "id": "bd371620-644c-4abc-936a-86007dece204",
   "metadata": {},
   "source": [
    "Notebook containig simple Python script to generate QR-Codes.\n",
    "\n",
    "**Project-Website:**\n",
    "https://github.com/kuranez/QR-Code-Generator"
   ]
  },
  {
   "cell_type": "markdown",
   "id": "b154a326-a1a4-40f1-ba9a-306e413913ac",
   "metadata": {},
   "source": [
    "## Output-Directory"
   ]
  },
  {
   "cell_type": "code",
   "execution_count": 4,
   "id": "30fe6813-3a8f-4212-92f0-49faf981f64d",
   "metadata": {},
   "outputs": [],
   "source": [
    "import os\n",
    "import qrcode"
   ]
  },
  {
   "cell_type": "code",
   "execution_count": 6,
   "id": "767f8d14-8302-4f03-945c-9d797737a123",
   "metadata": {},
   "outputs": [],
   "source": [
    "# Output directory\n",
    "output_dir = \"./output\"\n",
    "os.makedirs(output_dir, exist_ok=True)\n",
    "\n",
    "# File path\n",
    "file_path = os.path.join(output_dir, \"example_qr.png\")"
   ]
  },
  {
   "cell_type": "markdown",
   "id": "309d88cc-890c-4cbc-85e4-1a19157230f7",
   "metadata": {},
   "source": [
    "## QR-Code-Generation"
   ]
  },
  {
   "cell_type": "code",
   "execution_count": 9,
   "id": "c5c138b5-a744-45b6-b91d-e69fd8f02bcf",
   "metadata": {},
   "outputs": [
    {
     "data": {
      "text/plain": [
       "'./output/example_qr.png'"
      ]
     },
     "execution_count": 9,
     "metadata": {},
     "output_type": "execute_result"
    }
   ],
   "source": [
    "# Source URL\n",
    "url = \"https://github.com/kuranez/QR-Code-Generator\"\n",
    "\n",
    "# Generate the QR code\n",
    "qr_img = qrcode.make(url)\n",
    "\n",
    "# Save the QR code image\n",
    "qr_img.save(file_path)\n",
    "\n",
    "file_path"
   ]
  },
  {
   "cell_type": "markdown",
   "id": "e26b3a55-8927-461a-ab05-725b2f7ddb91",
   "metadata": {},
   "source": [
    "### Debug "
   ]
  },
  {
   "cell_type": "code",
   "execution_count": 14,
   "id": "5b9ba9aa-ebef-4200-a0b1-f1ca54d67b8f",
   "metadata": {},
   "outputs": [
    {
     "name": "stdout",
     "output_type": "stream",
     "text": [
      "Current working directory: /home/9599cd84-cd61-406d-816d-638e3f1b716a/Projects/qr-code-generator\n",
      "Contents of the output directory: ['example_qr.png']\n"
     ]
    }
   ],
   "source": [
    "# Check the current working directory\n",
    "print(\"Current working directory:\", os.getcwd())\n",
    "\n",
    "# Check if the file has been saved correctly\n",
    "print(\"Contents of the output directory:\", os.listdir(output_dir))"
   ]
  },
  {
   "cell_type": "code",
   "execution_count": null,
   "id": "a067a8a8-d810-4f77-a408-fd9429775364",
   "metadata": {},
   "outputs": [],
   "source": []
  }
 ],
 "metadata": {
  "kernelspec": {
   "display_name": ".conda-py3.10",
   "language": "python",
   "name": "conda-env-.conda-py3.10-py"
  },
  "language_info": {
   "codemirror_mode": {
    "name": "ipython",
    "version": 3
   },
   "file_extension": ".py",
   "mimetype": "text/x-python",
   "name": "python",
   "nbconvert_exporter": "python",
   "pygments_lexer": "ipython3",
   "version": "3.10.15"
  }
 },
 "nbformat": 4,
 "nbformat_minor": 5
}
